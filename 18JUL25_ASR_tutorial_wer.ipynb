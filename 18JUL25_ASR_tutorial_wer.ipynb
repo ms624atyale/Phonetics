{
  "cells": [
    {
      "cell_type": "markdown",
      "metadata": {
        "id": "view-in-github",
        "colab_type": "text"
      },
      "source": [
        "<a href=\"https://colab.research.google.com/github/ms624atyale/Phonetics/blob/main/18JUL25_ASR_tutorial_wer.ipynb\" target=\"_parent\"><img src=\"https://colab.research.google.com/assets/colab-badge.svg\" alt=\"Open In Colab\"/></a>"
      ]
    },
    {
      "cell_type": "markdown",
      "source": [
        "# 음성인식 오류율 측정 예제"
      ],
      "metadata": {
        "id": "KQK5jAWHapI4"
      },
      "id": "KQK5jAWHapI4"
    },
    {
      "cell_type": "markdown",
      "source": [
        "## 환경셋업"
      ],
      "metadata": {
        "id": "BYXo4wEdat4l"
      },
      "id": "BYXo4wEdat4l"
    },
    {
      "cell_type": "code",
      "source": [
        "# Run this cell to automatically clone the repo (downloading all source code)\n",
        "import sys\n",
        "import os\n",
        "\n",
        "if 'google.colab' in sys.modules:\n",
        "    if not os.path.exists(\"/content/a1003\"):\n",
        "        !git clone \"https://github.com/pkyoung/a1003.git\" /content/a1003\n",
        "    %cd /content/a1003/local\n",
        "else:\n",
        "    if not os.path.exists(\"~/a1003\"):\n",
        "        !git clone \"https://github.com/pkyoung/a1003.git\" ~/a1003\n",
        "    %cd ~/a1003/local"
      ],
      "metadata": {
        "id": "UFk3NVTkXbbB",
        "colab": {
          "base_uri": "https://localhost:8080/"
        },
        "outputId": "6120985d-5199-4df3-ff2d-0af1a176ebdc"
      },
      "id": "UFk3NVTkXbbB",
      "execution_count": null,
      "outputs": [
        {
          "output_type": "stream",
          "name": "stdout",
          "text": [
            "Cloning into '/content/a1003'...\n",
            "remote: Enumerating objects: 356, done.\u001b[K\n",
            "remote: Counting objects: 100% (208/208), done.\u001b[K\n",
            "remote: Compressing objects: 100% (171/171), done.\u001b[K\n",
            "remote: Total 356 (delta 105), reused 104 (delta 35), pack-reused 148 (from 1)\u001b[K\n",
            "Receiving objects: 100% (356/356), 70.75 MiB | 25.79 MiB/s, done.\n",
            "Resolving deltas: 100% (160/160), done.\n",
            "/content/a1003/local\n"
          ]
        }
      ]
    },
    {
      "cell_type": "markdown",
      "source": [
        "## 개별 문장에 대한 오류율 측정"
      ],
      "metadata": {
        "id": "mQVDoQvAaxfI"
      },
      "id": "mQVDoQvAaxfI"
    },
    {
      "cell_type": "markdown",
      "source": [
        "\n",
        "\n",
        "\n",
        "다음 코드는 두 개의 한국어 문장(정답, 음성인식결과)에 대하여\n",
        "edit distance(최소편집거리)를 계산하여 WER과 CER을 측정하는 코드입니다.\n",
        "\n",
        "Edit distance를 계산하기 위해서 `editdistance` 모듈을 import하고,\n",
        "두 개의 문장을 각 변수에 저장합니다.\n"
      ],
      "metadata": {
        "id": "9-Uj8wD3LyNc"
      },
      "id": "9-Uj8wD3LyNc"
    },
    {
      "cell_type": "code",
      "execution_count": null,
      "id": "conditional-sterling",
      "metadata": {
        "id": "conditional-sterling"
      },
      "outputs": [],
      "source": [
        "import editdistance\n",
        "\n",
        "ref_text = \"오늘 서울의 날씨가 어때\"\n",
        "hyp_text = \"음 오늘의 날씨 가 어때\""
      ]
    },
    {
      "cell_type": "markdown",
      "source": [
        "WER을 측정하기 위해서 문장을 단어단위로 분리하여 리스트에 저장하빈다."
      ],
      "metadata": {
        "id": "JaHn32y5M14c"
      },
      "id": "JaHn32y5M14c"
    },
    {
      "cell_type": "code",
      "source": [
        "ref = ref_text.split()\n",
        "hyp = hyp_text.split()\n",
        "\n",
        "print(ref, hyp, sep='\\n')"
      ],
      "metadata": {
        "id": "KRnyxO44MuRu",
        "colab": {
          "base_uri": "https://localhost:8080/"
        },
        "outputId": "c5f3c2eb-7fd4-470b-a594-0432c1fa52c8"
      },
      "id": "KRnyxO44MuRu",
      "execution_count": null,
      "outputs": [
        {
          "output_type": "stream",
          "name": "stdout",
          "text": [
            "['오늘', '서울의', '날씨가', '어때']\n",
            "['음', '오늘의', '날씨', '가', '어때']\n"
          ]
        }
      ]
    },
    {
      "cell_type": "markdown",
      "source": [
        "Edit distance를 계산합니다. `editdistance.eval()` 함수는 두개의 리스트를 입력받아서,\n",
        "두 리스트 간의 editdistance를 반환하는 함수입니다."
      ],
      "metadata": {
        "id": "ymRwA6HAM-je"
      },
      "id": "ymRwA6HAM-je"
    },
    {
      "cell_type": "code",
      "execution_count": null,
      "id": "requested-tunnel",
      "metadata": {
        "id": "requested-tunnel",
        "colab": {
          "base_uri": "https://localhost:8080/"
        },
        "outputId": "a2bc6a7e-c74e-497f-a423-4c860addd88b"
      },
      "outputs": [
        {
          "output_type": "stream",
          "name": "stdout",
          "text": [
            "N=4, E=4, WER=100.0\n"
          ]
        }
      ],
      "source": [
        "E = editdistance.eval(ref, hyp) #count all subsitution, deletion, insertion\n",
        "N = len(ref)\n",
        "WER = E/N*100\n",
        "print(f\"N={N}, E={E}, WER={WER}\")"
      ]
    },
    {
      "cell_type": "markdown",
      "source": [
        "CER을 측정하기 위해서 문장을 각 글자의 리스트로 변환합니다."
      ],
      "metadata": {
        "id": "MdqTF8vHMXDO"
      },
      "id": "MdqTF8vHMXDO"
    },
    {
      "cell_type": "code",
      "execution_count": null,
      "id": "fiscal-supply",
      "metadata": {
        "id": "fiscal-supply"
      },
      "outputs": [],
      "source": [
        "ref = list(ref_text)\n",
        "hyp = list(hyp_text)\n",
        "print(ref, hyp, sep='\\n')"
      ]
    },
    {
      "cell_type": "markdown",
      "source": [
        "\n",
        "글자 단위로 분리된 리스트(`ref`, `hyp`)에 대해서 같은 방법으로 editdistance를 측정합니다.\n",
        "공백문자도 하나의 글자로 처리된 것도 확인하세요.\n"
      ],
      "metadata": {
        "id": "mTcxVG6hNT9P"
      },
      "id": "mTcxVG6hNT9P"
    },
    {
      "cell_type": "code",
      "execution_count": null,
      "id": "worse-natural",
      "metadata": {
        "id": "worse-natural",
        "colab": {
          "base_uri": "https://localhost:8080/"
        },
        "outputId": "9c5670f3-e88e-4ecf-d02c-2f74cc34bc65"
      },
      "outputs": [
        {
          "output_type": "stream",
          "name": "stdout",
          "text": [
            "N=4, E=4, CER=100.0\n"
          ]
        }
      ],
      "source": [
        "E = editdistance.eval(ref, hyp)\n",
        "N = len(ref)\n",
        "CER = E/N*100\n",
        "print(f\"N={N}, E={E}, CER={CER}\")"
      ]
    },
    {
      "cell_type": "markdown",
      "source": [
        "이번에는 공백문자를 무시하고(즉, 띄어쓰기 오류를 완전히 무시하고) CER을 측정해 봅니다.\n",
        "앞에서 글자단위로 분리한 것과 다르게 이번에는 공백문자를 미리 제거합니다. It is hard to say one is better than the other. As long as you are consistent, it's fine.\n",
        ">\n",
        "평가 데이터를 어떻게 볼 것인가? 한국전자통신연구원에서는 숫자, 띄워쓰기 등을 어떻게 반영할 것인가 보고 있다. 요즘은 띄워쓰기를 평가 데이터에 반영하는 분위기고, 숫자의 표현은 글자 혹은 숫자 어떻게 해야 가독성 높아지나 등도 고려\n"
      ],
      "metadata": {
        "id": "i72KzLooNwJA"
      },
      "id": "i72KzLooNwJA"
    },
    {
      "cell_type": "code",
      "execution_count": null,
      "id": "governmental-respect",
      "metadata": {
        "id": "governmental-respect",
        "colab": {
          "base_uri": "https://localhost:8080/"
        },
        "outputId": "754970be-43bb-4b65-b233-475a0fd1a86d"
      },
      "outputs": [
        {
          "output_type": "stream",
          "name": "stdout",
          "text": [
            "['오', '늘', '서', '울', '의', '날', '씨', '가', '어', '때']\n",
            "['음', '오', '늘', '의', '날', '씨', '가', '어', '때']\n"
          ]
        }
      ],
      "source": [
        "ref = list(''.join(ref_text.split()))\n",
        "hyp = list(''.join(hyp_text.split()))\n",
        "print(ref, hyp, sep='\\n')"
      ]
    },
    {
      "cell_type": "code",
      "execution_count": null,
      "id": "outdoor-youth",
      "metadata": {
        "id": "outdoor-youth",
        "colab": {
          "base_uri": "https://localhost:8080/"
        },
        "outputId": "cf12faf7-67fd-4ebe-96e6-4863d8ce0fb3"
      },
      "outputs": [
        {
          "output_type": "stream",
          "name": "stdout",
          "text": [
            "N=10, E=3, CER=30.0\n"
          ]
        }
      ],
      "source": [
        "E = editdistance.eval(ref, hyp) #Korean has user-dependent space uses, it'd better estimate error rate by character, not word. WER for English at all time.\n",
        "N = len(ref)\n",
        "CER = E/N*100\n",
        "print(f\"N={N}, E={E}, CER={CER}\")"
      ]
    },
    {
      "cell_type": "markdown",
      "source": [
        "## 여러 문장에 대한 평균 오류율 측정"
      ],
      "metadata": {
        "id": "E4NDlAMNa9Jo"
      },
      "id": "E4NDlAMNa9Jo"
    },
    {
      "cell_type": "markdown",
      "source": [
        "지금까지는 한개의 {정답,인식결과} 쌍에 대해서 WER, CER을 측정해보았습니다.\n",
        "실제로는 매우 많은 {정답,인식결과} 쌍에 대해서 오류율을 계산하고 전체의 오류율을 성능지표로 사용합니다.\n",
        "이를 위해서 `kaldi`와 `ESPnet`은 다음과 같은 형식으로 여러 파일에 대한 정답전사문과 인식결과를 파일로 저장해둡니다."
      ],
      "metadata": {
        "id": "CVEPO_DwOFx7"
      },
      "id": "CVEPO_DwOFx7"
    },
    {
      "cell_type": "code",
      "source": [
        "!cat data/ref.txt"
      ],
      "metadata": {
        "id": "BDBORIv0RvtN",
        "colab": {
          "base_uri": "https://localhost:8080/"
        },
        "outputId": "32a1f287-d7fa-41f3-f928-657f06571e84"
      },
      "id": "BDBORIv0RvtN",
      "execution_count": null,
      "outputs": [
        {
          "output_type": "stream",
          "name": "stdout",
          "text": [
            "KsponSpeech_E00001 어 일단은 억지로 과장해서 이렇게 하는 것보다 진실된 마음으로 이걸 어떻게 전달할 수 있을까 공감을 시킬 수 있을까 해서 좀\n",
            "KsponSpeech_E00002 혼인 신고를 또 해야 되잖아 \n",
            "KsponSpeech_E00003 약간 젊은 엄마 같은 느낌이야 \n",
            "KsponSpeech_E00004 응 근데 오늘 일단 밥 먹고 이것 저것 하다가 시간되면 뭐 가는 거고 안 되면\n",
            "KsponSpeech_E00005 아 우린 또 그런 거 안 하잖아 어 그치 \n",
            "KsponSpeech_E00006 아 근데 진짜 감튀 먹고 있는데 데려온 거 심했다\n",
            "KsponSpeech_E00007 그래서 저승에서 그 애기를 찾아서 막 돌아다니는 내용인데 \n",
            "KsponSpeech_E00008 그런가 \n",
            "KsponSpeech_E00009 그 너가 매운 거를 잘 못먹어서 못 먹기도 하고\n",
            "KsponSpeech_E00010 그래서 나는 지금 7월달에는 사람들이 돈 30만 원씩 뭐 달마다 30만 원씩 모아서 지금 그 태국여행 가기로 했거든 \n"
          ]
        }
      ]
    },
    {
      "cell_type": "code",
      "source": [
        "!cat data/hyp.txt"
      ],
      "metadata": {
        "id": "WGvfybgiR4k6",
        "colab": {
          "base_uri": "https://localhost:8080/"
        },
        "outputId": "028620ff-2dc8-42e9-95ae-f655767ec83a"
      },
      "id": "WGvfybgiR4k6",
      "execution_count": null,
      "outputs": [
        {
          "output_type": "stream",
          "name": "stdout",
          "text": [
            "KsponSpeech_E00001 어 일단은 억지로 과장에서 이렇게 하는 것보다 진실된 마음으로 이걸 어떻게 전달을 할 수 있을까 공감을 시킬 수 있을까 해서 좀\n",
            "KsponSpeech_E00002 혼인 신고를 또 해야 되잖아\n",
            "KsponSpeech_E00003 약간 젊은 엄마 같은 느낌이야\n",
            "KsponSpeech_E00004 음 근데 오늘 일단 밥 먹고 이것저것 다 따라 하다가 시간 되면 >뭐 가는 거고 안 되면\n",
            "KsponSpeech_E00005 아무랜도 그런 거 알잖아 어 그지\n",
            "KsponSpeech_E00006 아 근데 진짜 감기 먹고 있는데 데려온 구심했다\n",
            "KsponSpeech_E00007 그래서 저순에서 그 애기를 찾아서 막 돌아다니는 내용인데\n",
            "KsponSpeech_E00008 그런가\n",
            "KsponSpeech_E00009 근데 너가 매운 거를 잘 못 먹었 못 먹기도 하고\n",
            "KsponSpeech_E00010 그래도 나는 지금 칠 월 달에는 사람들이 조 삼십만 원씩 뭐 달만 삼십 하십 모아서 지금 그 태홍된가 그랬거든\n"
          ]
        }
      ]
    },
    {
      "cell_type": "markdown",
      "source": [
        "이 두개의 파일을 읽어서 utternace-id 가 같은 문장간의 editdistance를 출력하는 파이선 코드가 `uttwer.py`, `uttcer.py` 파일입니다.\n",
        "다음과 같은 방법으로 실행합니다."
      ],
      "metadata": {
        "id": "zsEKLFo8StzJ"
      },
      "id": "zsEKLFo8StzJ"
    },
    {
      "cell_type": "code",
      "source": [
        "!python uttwer.py data/ref.txt data/hyp.txt"
      ],
      "metadata": {
        "id": "nNXXFmP2SFPu",
        "colab": {
          "base_uri": "https://localhost:8080/"
        },
        "outputId": "52687813-c0e6-4ed7-ebff-db20a904d3ed"
      },
      "id": "nNXXFmP2SFPu",
      "execution_count": null,
      "outputs": [
        {
          "output_type": "stream",
          "name": "stdout",
          "text": [
            "KsponSpeech_E00001 15.00 3 20\n",
            "KsponSpeech_E00002  0.00 0 5\n",
            "KsponSpeech_E00003  0.00 0 5\n",
            "KsponSpeech_E00004 46.67 7 15\n",
            "KsponSpeech_E00005 66.67 6 9\n",
            "KsponSpeech_E00006 33.33 3 9\n",
            "KsponSpeech_E00007 12.50 1 8\n",
            "KsponSpeech_E00008  0.00 0 1\n",
            "KsponSpeech_E00009 33.33 3 9\n",
            "KsponSpeech_E00010 66.67 12 18\n",
            "N= 99 E= 35 WER= 35.35\n"
          ]
        }
      ]
    },
    {
      "cell_type": "code",
      "source": [
        "!python uttcer.py data/ref.txt data/hyp.txt"
      ],
      "metadata": {
        "id": "K6I4j9xHZKX7",
        "colab": {
          "base_uri": "https://localhost:8080/"
        },
        "outputId": "7f3e52bc-5b95-4cca-e5d2-23c4a2cb9596"
      },
      "id": "K6I4j9xHZKX7",
      "execution_count": null,
      "outputs": [
        {
          "output_type": "stream",
          "name": "stdout",
          "text": [
            "KsponSpeech_E00001  4.00 2 50\n",
            "KsponSpeech_E00002  0.00 0 11\n",
            "KsponSpeech_E00003  0.00 0 12\n",
            "KsponSpeech_E00004 17.24 5 29\n",
            "KsponSpeech_E00005 42.86 6 14\n",
            "KsponSpeech_E00006 10.53 2 19\n",
            "KsponSpeech_E00007  4.17 1 24\n",
            "KsponSpeech_E00008  0.00 0 3\n",
            "KsponSpeech_E00009 22.22 4 18\n",
            "KsponSpeech_E00010 38.30 18 47\n",
            "N= 227 E= 38 CER= 16.74\n"
          ]
        }
      ]
    },
    {
      "cell_type": "markdown",
      "source": [
        "다른 데이터에 대해서도 해봅시다."
      ],
      "metadata": {
        "id": "qJGtFkI2A1xS"
      },
      "id": "qJGtFkI2A1xS"
    },
    {
      "cell_type": "code",
      "source": [
        "!git clone https://hf.co/datasets/pkyoung/a1003.git ./data/a1003\n",
        "!cp data/a1003/result_espnet_ma16k2401a.txt ./result.txt\n",
        "!head result.txt\n",
        "\n"
      ],
      "metadata": {
        "id": "LczhQ_PPAeM9",
        "colab": {
          "base_uri": "https://localhost:8080/"
        },
        "outputId": "2c5b87cc-963b-46f4-9541-46504a1ee407"
      },
      "id": "LczhQ_PPAeM9",
      "execution_count": null,
      "outputs": [
        {
          "output_type": "stream",
          "name": "stdout",
          "text": [
            "Cloning into './data/a1003'...\n",
            "warning: redirecting to https://huggingface.co/datasets/pkyoung/a1003.git/\n",
            "remote: Enumerating objects: 206, done.\u001b[K\n",
            "remote: Total 206 (delta 0), reused 0 (delta 0), pack-reused 206 (from 1)\u001b[K\n",
            "Receiving objects: 100% (206/206), 46.70 KiB | 7.78 MiB/s, done.\n",
            "Resolving deltas: 100% (4/4), done.\n",
            "Filtering content: 100% (180/180), 49.18 MiB | 26.26 MiB/s, done.\n",
            "spk1/1 위키피디아에 따르면 소리 또는 음 또는 음파는 공기나 물 같은 매질의 진동을 통해 전달되는 종바라고 합니다.\n",
            "spk1/10 파동은 반복적으로 진동하는 신호를 나타내기 때문에 우는 소리를 웨이폼 형태로 나타낼 수 있습니다.\n",
            "spk1/11 풀이의 변환을 통해 얻은 스펙트럼은 시간 정보가 없어지게 됩니다.\n",
            "spk1/12 파형을 일정한 특정 길이의 프레임으로 잘라서 각 프레임마다 프리의 변환을 취하고 스펙트럼을 구하는 방법을 취합니다.\n",
            "spk1/13 이렇게 음성 전체로부터 얻은 여러 개의 스펙트럼을 시간 축에 나열하면 시간 변화에 따른 스펙트럼의 변화를 스펙트로 그램으로 정의합니다.\n",
            "spk1/14 스펙트로그램은 소리나 파동을 시각하여 파악하기 위한 도구로 파형과 스펙트럼의 특징이 조합되어 있습니다.\n",
            "spk1/15 사람의 청각 기관은 고주파보다 저주파 대역에서 더 민감하다고 합니다.\n",
            "spk1/16 이러한 이유를 달팽이관의 구조로 살펴보면 달팽이관의 가장 안쪽 청각 세포는 저주파 대역을 인지합니다.\n",
            "spk1/17 바깥쪽 청각세포는 고주파 대역을 인지한다는 사실을 통해 모든 주파수 대역을 같은 비중으로 인지하지 않습니다.\n",
            "spk1/18 고주파에서 저주파로 내려갈수록 담당하는 주파수 대역이 점점 더 조밀해진다는 점입니다.\n"
          ]
        }
      ]
    },
    {
      "cell_type": "code",
      "source": [
        "!python uttcer.py data/a1003/text result.txt"
      ],
      "metadata": {
        "id": "MbC-GYKHA8_h",
        "colab": {
          "base_uri": "https://localhost:8080/"
        },
        "outputId": "dcb9e89f-50ca-43fa-cc2a-a3245008bc4d"
      },
      "id": "MbC-GYKHA8_h",
      "execution_count": null,
      "outputs": [
        {
          "output_type": "stream",
          "name": "stdout",
          "text": [
            "spk1/1  4.55 2 44\n",
            "spk1/10  6.98 3 43\n",
            "spk1/11 14.81 4 27\n",
            "spk1/12  6.12 3 49\n",
            "spk1/13  1.75 1 57\n",
            "spk1/14  4.35 2 46\n",
            "spk1/15  3.45 1 29\n",
            "spk1/16  2.33 1 43\n",
            "spk1/17  2.17 1 46\n",
            "spk1/18  2.70 1 37\n",
            "spk1/19  3.45 1 29\n",
            "spk1/2  2.78 1 36\n",
            "spk1/20  2.33 1 43\n",
            "spk1/3  3.33 1 30\n",
            "spk1/4  5.00 1 20\n",
            "spk1/5  2.17 1 46\n",
            "spk1/6  2.78 1 36\n",
            "spk1/7  1.85 1 54\n",
            "spk1/8  5.45 3 55\n",
            "spk1/9  5.13 2 39\n",
            "spk2/utt1 18.75 3 16\n",
            "spk2/utt10 23.08 3 13\n",
            "spk2/utt11 14.29 2 14\n",
            "spk2/utt12 29.41 5 17\n",
            "spk2/utt13 11.43 4 35\n",
            "spk2/utt14 10.00 1 10\n",
            "spk2/utt15  5.56 1 18\n",
            "spk2/utt16 13.33 2 15\n",
            "spk2/utt17 12.50 3 24\n",
            "spk2/utt18 27.78 5 18\n",
            "spk2/utt19 17.86 5 28\n",
            "spk2/utt2 11.76 2 17\n",
            "spk2/utt20 10.00 1 10\n",
            "spk2/utt3  8.33 1 12\n",
            "spk2/utt4 23.81 5 21\n",
            "spk2/utt5  6.45 2 31\n",
            "spk2/utt6  6.67 1 15\n",
            "spk2/utt7 30.00 6 20\n",
            "spk2/utt8  8.70 2 23\n",
            "spk2/utt9 17.95 7 39\n",
            "spk3/data1  2.86 1 35\n",
            "spk3/data10 45.00 18 40\n",
            "spk3/data11  9.52 4 42\n",
            "spk3/data12  2.78 1 36\n",
            "spk3/data13  9.68 3 31\n",
            "spk3/data14 12.90 4 31\n",
            "spk3/data15 68.97 20 29\n",
            "spk3/data16  0.00 0 7\n",
            "spk3/data17  9.76 4 41\n",
            "spk3/data18  6.90 2 29\n",
            "spk3/data19 23.08 3 13\n",
            "spk3/data2  5.41 2 37\n",
            "spk3/data20  4.17 1 24\n",
            "spk3/data3  3.57 1 28\n",
            "spk3/data4  4.17 1 24\n",
            "spk3/data5  4.88 2 41\n",
            "spk3/data6  2.86 1 35\n",
            "spk3/data7  3.23 1 31\n",
            "spk3/data8  0.00 0 17\n",
            "spk3/data9  2.56 1 39\n",
            "spk4/10_stereo_24bit_48khz  1.85 1 54\n",
            "spk4/11_mono_16-16  9.33 7 75\n",
            "spk4/12_mono_16-16  1.37 1 73\n",
            "spk4/13_mono_16-16  5.56 4 72\n",
            "spk4/14_mono_16-16  7.50 6 80\n",
            "spk4/15_mono_16-16 24.51 25 102\n",
            "spk4/16_mono_16-16  4.23 3 71\n",
            "spk4/17_mono_16-16  1.54 1 65\n",
            "spk4/18_mono_coveredmouth_16-16  4.84 3 62\n",
            "spk4/19_mono_16-16  3.17 2 63\n",
            "spk4/1_4ch_16bit_16khz  2.67 2 75\n",
            "spk4/20_mono_16-16  3.45 2 58\n",
            "spk4/2_mono_16bit_16khz  7.35 5 68\n",
            "spk4/3_mono_noise_16bit_16khz 11.43 8 70\n",
            "spk4/4_stereo_noise_24bit_32khz  5.80 4 69\n",
            "spk4/5_4ch_moving_24bit_32khz  6.78 4 59\n",
            "spk4/6_mono_16bit_16khz  2.94 2 68\n",
            "spk4/7_mono_16bit_16khz  5.17 3 58\n",
            "spk4/8_mono_whisper_16bit_16khz 14.89 7 47\n",
            "spk4/9_mono_16-16  4.23 3 71\n",
            "spk5/Speech_E01 10.20 5 49\n",
            "spk5/Speech_E02  2.17 1 46\n",
            "spk5/Speech_E03 12.90 8 62\n",
            "spk5/Speech_E04  3.23 2 62\n",
            "spk5/Speech_E05  1.64 1 61\n",
            "spk5/Speech_E06  1.75 1 57\n",
            "spk5/Speech_E07 10.42 5 48\n",
            "spk5/Speech_E08  2.17 1 46\n",
            "spk5/Speech_E09 16.28 7 43\n",
            "spk5/Speech_E10  2.04 1 49\n",
            "spk5/Speech_E11  2.38 1 42\n",
            "spk5/Speech_E12  4.44 2 45\n",
            "spk5/Speech_E13  5.00 2 40\n",
            "spk5/Speech_E14  2.70 1 37\n",
            "spk5/Speech_E15  2.08 1 48\n",
            "spk5/Speech_E16 18.75 9 48\n",
            "spk5/Speech_E17  1.89 1 53\n",
            "spk5/Speech_E18  5.77 3 52\n",
            "spk5/Speech_E19  2.08 1 48\n",
            "spk5/Speech_E20  2.22 1 45\n",
            "spk6/recording_00  4.00 1 25\n",
            "spk6/recording_01  4.55 1 22\n",
            "spk6/recording_02 16.67 5 30\n",
            "spk6/recording_03  0.00 0 26\n",
            "spk6/recording_04  3.70 1 27\n",
            "spk6/recording_05 12.90 4 31\n",
            "spk6/recording_06  4.17 1 24\n",
            "spk6/recording_07  4.55 1 22\n",
            "spk6/recording_08 12.00 3 25\n",
            "spk6/recording_09  4.76 1 21\n",
            "spk6/recording_10  5.13 2 39\n",
            "spk6/recording_11 11.11 3 27\n",
            "spk6/recording_12  4.76 1 21\n",
            "spk6/recording_13  0.00 0 26\n",
            "spk6/recording_14 25.00 5 20\n",
            "spk6/recording_15  4.76 1 21\n",
            "spk6/recording_16  7.69 2 26\n",
            "spk6/recording_17 14.29 4 28\n",
            "spk6/recording_18  3.85 1 26\n",
            "spk6/recording_19  7.14 2 28\n",
            "spk7/recording_00 76.00 19 25\n",
            "spk7/recording_01 45.45 10 22\n",
            "spk7/recording_02 50.00 15 30\n",
            "spk7/recording_03 100.00 26 26\n",
            "spk7/recording_04 14.81 4 27\n",
            "spk7/recording_05  3.23 1 31\n",
            "spk7/recording_06 79.17 19 24\n",
            "spk7/recording_07 22.73 5 22\n",
            "spk7/recording_08 28.00 7 25\n",
            "spk7/recording_09 66.67 14 21\n",
            "spk7/recording_10 87.18 34 39\n",
            "spk7/recording_11 18.52 5 27\n",
            "spk7/recording_12 14.29 3 21\n",
            "spk7/recording_13 26.92 7 26\n",
            "spk7/recording_14 35.00 7 20\n",
            "spk7/recording_15 23.81 5 21\n",
            "spk7/recording_16 50.00 13 26\n",
            "spk7/recording_17 57.14 16 28\n",
            "spk7/recording_18 73.08 19 26\n",
            "spk7/recording_19 85.71 24 28\n",
            "spk8/audio_file_0001  7.14 3 42\n",
            "spk8/audio_file_0002  2.63 1 38\n",
            "spk8/audio_file_0003  4.76 2 42\n",
            "spk8/audio_file_0004  6.67 3 45\n",
            "spk8/audio_file_0005  4.35 2 46\n",
            "spk8/audio_file_0006  7.32 3 41\n",
            "spk8/audio_file_0007  4.55 2 44\n",
            "spk8/audio_file_0008  4.35 2 46\n",
            "spk8/audio_file_0009  4.26 2 47\n",
            "spk8/audio_file_0010  6.52 3 46\n",
            "spk8/audio_file_0011  2.78 1 36\n",
            "spk8/audio_file_0012  0.00 0 30\n",
            "spk8/audio_file_0013  3.51 2 57\n",
            "spk8/audio_file_0014  4.26 2 47\n",
            "spk8/audio_file_0015  2.33 1 43\n",
            "spk8/audio_file_0016  2.44 1 41\n",
            "spk8/audio_file_0017  3.12 1 32\n",
            "spk8/audio_file_0018  7.69 3 39\n",
            "spk8/audio_file_0019  6.82 3 44\n",
            "spk8/audio_file_0020  7.14 3 42\n",
            "spk9/recording_1 15.71 11 70\n",
            "spk9/recording_10  3.28 2 61\n",
            "spk9/recording_11  0.00 0 37\n",
            "spk9/recording_12  6.12 3 49\n",
            "spk9/recording_13 11.63 5 43\n",
            "spk9/recording_14 11.11 5 45\n",
            "spk9/recording_15 15.15 5 33\n",
            "spk9/recording_16  3.12 1 32\n",
            "spk9/recording_17  3.77 2 53\n",
            "spk9/recording_18  1.82 1 55\n",
            "spk9/recording_19  5.13 2 39\n",
            "spk9/recording_2  7.02 4 57\n",
            "spk9/recording_20  7.27 4 55\n",
            "spk9/recording_3  6.52 3 46\n",
            "spk9/recording_4  5.88 3 51\n",
            "spk9/recording_5  6.38 3 47\n",
            "spk9/recording_6  5.88 3 51\n",
            "spk9/recording_7  5.08 3 59\n",
            "spk9/recording_8  1.96 1 51\n",
            "spk9/recording_9  9.84 6 61\n",
            "N= 7029 E= 709 CER= 10.09\n"
          ]
        }
      ]
    },
    {
      "cell_type": "markdown",
      "source": [
        "문장부호를 제외한 인식률을 측정해봅니다."
      ],
      "metadata": {
        "id": "hxM67gn4BjJS"
      },
      "id": "hxM67gn4BjJS"
    },
    {
      "cell_type": "code",
      "source": [
        "!python uttwer.py <(python pp.py -s data/a1003/text) <(python pp.py -s result.txt) > /dev/null"
      ],
      "metadata": {
        "id": "G3uSHa6IBdmM",
        "colab": {
          "base_uri": "https://localhost:8080/"
        },
        "outputId": "f1c39ed7-b2d9-4641-df9a-9497a3ae7915"
      },
      "id": "G3uSHa6IBdmM",
      "execution_count": null,
      "outputs": [
        {
          "output_type": "stream",
          "name": "stdout",
          "text": [
            "N= 6835 E= 504 WER=  7.37\n"
          ]
        }
      ]
    },
    {
      "cell_type": "markdown",
      "source": [
        "화자별 성능도 측정해봅시다."
      ],
      "metadata": {
        "id": "UBTs3P06A-oh"
      },
      "id": "UBTs3P06A-oh"
    },
    {
      "cell_type": "code",
      "source": [
        "%%bash\n",
        "for s in spk{1..9}; do\n",
        "  echo -n \"$s \" >&2\n",
        "  python uttcer.py data/a1003/text <(grep \"$s/\" result.txt) > /dev/null\n",
        "done"
      ],
      "metadata": {
        "id": "CvlWuko8AuAj",
        "colab": {
          "base_uri": "https://localhost:8080/"
        },
        "outputId": "fe739d70-4fa7-4a69-e9db-e2e2c6949fdf"
      },
      "id": "CvlWuko8AuAj",
      "execution_count": null,
      "outputs": [
        {
          "output_type": "stream",
          "name": "stderr",
          "text": [
            "spk1 N= 809 E= 32 CER=  3.96\n",
            "spk2 N= 396 E= 61 CER= 15.40\n",
            "spk3 N= 610 E= 70 CER= 11.48\n",
            "spk4 N= 1360 E= 93 CER=  6.84\n",
            "spk5 N= 981 E= 54 CER=  5.50\n",
            "spk6 N= 515 E= 39 CER=  7.57\n",
            "spk7 N= 515 E= 253 CER= 49.13\n",
            "spk8 N= 848 E= 40 CER=  4.72\n",
            "spk9 N= 995 E= 67 CER=  6.73\n"
          ]
        }
      ]
    }
  ],
  "metadata": {
    "kernelspec": {
      "display_name": "Python 3",
      "language": "python",
      "name": "python3"
    },
    "language_info": {
      "codemirror_mode": {
        "name": "ipython",
        "version": 3
      },
      "file_extension": ".py",
      "mimetype": "text/x-python",
      "name": "python",
      "nbconvert_exporter": "python",
      "pygments_lexer": "ipython3",
      "version": "3.7.4"
    },
    "colab": {
      "provenance": [],
      "toc_visible": true,
      "include_colab_link": true
    }
  },
  "nbformat": 4,
  "nbformat_minor": 5
}